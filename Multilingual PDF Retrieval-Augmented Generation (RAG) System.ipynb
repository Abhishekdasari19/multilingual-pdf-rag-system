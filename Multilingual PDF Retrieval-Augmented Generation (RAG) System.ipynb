{
 "cells": [
  {
   "cell_type": "code",
   "execution_count": 2,
   "id": "2b9a326f",
   "metadata": {},
   "outputs": [],
   "source": [
    "import pytesseract\n",
    "from PyPDF2 import PdfReader\n",
    "\n",
    "def extract_text_from_pdf(pdf_path, is_scanned=False):\n",
    "    if is_scanned:\n",
    "        text = pytesseract.image_to_string(pdf_path)\n",
    "    else:\n",
    "        reader = PdfReader(pdf_path)\n",
    "        text = \"\"\n",
    "        for page in reader.pages:\n",
    "            text += page.extract_text()\n",
    "    return text\n"
   ]
  },
  {
   "cell_type": "code",
   "execution_count": 3,
   "id": "ab70bf2e",
   "metadata": {},
   "outputs": [],
   "source": [
    "def chunk_text(text, max_length=512):\n",
    "    words = text.split()\n",
    "    for i in range(0, len(words), max_length):\n",
    "        yield \" \".join(words[i:i + max_length])\n"
   ]
  },
  {
   "cell_type": "code",
   "execution_count": 4,
   "id": "96ebf037",
   "metadata": {},
   "outputs": [
    {
     "name": "stderr",
     "output_type": "stream",
     "text": [
      "C:\\Users\\Shree\\anaconda3\\Lib\\site-packages\\sentence_transformers\\cross_encoder\\CrossEncoder.py:13: TqdmExperimentalWarning: Using `tqdm.autonotebook.tqdm` in notebook mode. Use `tqdm.tqdm` instead to force console mode (e.g. in jupyter console)\n",
      "  from tqdm.autonotebook import tqdm, trange\n"
     ]
    },
    {
     "name": "stdout",
     "output_type": "stream",
     "text": [
      "WARNING:tensorflow:From C:\\Users\\Shree\\anaconda3\\Lib\\site-packages\\tf_keras\\src\\losses.py:2976: The name tf.losses.sparse_softmax_cross_entropy is deprecated. Please use tf.compat.v1.losses.sparse_softmax_cross_entropy instead.\n",
      "\n"
     ]
    }
   ],
   "source": [
    "from sentence_transformers import SentenceTransformer\n",
    "\n",
    "model = SentenceTransformer('paraphrase-MiniLM-L6-v2') \n",
    "def get_embeddings(text):\n",
    "    return model.encode(text, convert_to_tensor=False)\n"
   ]
  },
  {
   "cell_type": "code",
   "execution_count": 5,
   "id": "dcd49beb",
   "metadata": {},
   "outputs": [],
   "source": [
    "import faiss\n",
    "import numpy as np\n",
    "\n",
    "embedding_dim = 384 \n",
    "index = faiss.IndexFlatL2(embedding_dim)\n",
    "\n",
    "def add_to_index(text_chunks):\n",
    "    embeddings = [get_embeddings(chunk) for chunk in text_chunks]\n",
    "    index.add(np.array(embeddings))\n",
    "\n",
    "def search(query, top_k=5):\n",
    "    query_embedding = get_embeddings(query).reshape(1, -1)\n",
    "    distances, indices = index.search(query_embedding, top_k)\n",
    "    return indices, distances \n"
   ]
  },
  {
   "cell_type": "code",
   "execution_count": 6,
   "id": "3c3e0216",
   "metadata": {},
   "outputs": [],
   "source": [
    "class ChatMemory:\n",
    "    def __init__(self):\n",
    "        self.memory = []\n",
    "    \n",
    "    def add_interaction(self, user_query, system_response):\n",
    "        self.memory.append({\"query\": user_query, \"response\": system_response})\n",
    "\n",
    "    def get_context(self):\n",
    "        return self.memory\n"
   ]
  },
  {
   "cell_type": "code",
   "execution_count": 7,
   "id": "c71c42d1",
   "metadata": {},
   "outputs": [],
   "source": [
    "def rerank_results(results, query):\n",
    "    ranked = sorted(results, key=lambda x: semantic_similarity(query, x))\n",
    "    return ranked\n",
    "\n",
    "def semantic_similarity(query, text):\n",
    "    query_embedding = get_embeddings(query)\n",
    "    text_embedding = get_embeddings(text)\n",
    "    return np.dot(query_embedding, text_embedding)  \n"
   ]
  },
  {
   "cell_type": "code",
   "execution_count": 8,
   "id": "0b6edeb7",
   "metadata": {},
   "outputs": [],
   "source": [
    "def rag_pipeline(pdf_path, query, is_scanned=False):\n",
    "    text = extract_text_from_pdf(pdf_path, is_scanned)\n",
    "\n",
    "    chunks = list(chunk_text(text))\n",
    "\n",
    "    add_to_index(chunks)\n",
    "\n",
    "    results, distances = search(query)\n",
    "\n",
    "    top_chunks = [chunks[i] for i in results[0]]\n",
    "    reranked_results = rerank_results(top_chunks, query)\n",
    "    \n",
    "    return reranked_results\n"
   ]
  },
  {
   "cell_type": "code",
   "execution_count": 9,
   "id": "bc20b343",
   "metadata": {},
   "outputs": [
    {
     "name": "stdout",
     "output_type": "stream",
     "text": [
      "['whose lives I touch upon who surely have dif ferent feelings, observations, and perceptions. Such dif ferent views are no less true or valid than my own. While the facts remembered by others may be different, our feelings are doubtlessly similar; maybe even more than true. The wise elders in my life encouraged me to honor such dif ferent feelings, such dif ferent truths, as I honor my own. I’ve tried to use my truth to advance an understanding of the world as I’ve come to see it. What’ s required of each of us, I believe, is to speak truth while releasing ourselves from the obligation to share the whole truth. This said, and for what it’ s worth, the bike was purple, and it had a great banana seat.Acknowledgments Many authors acknowledge the people in their lives who helped make their book a reality . When I read that a book would not have been possible were it not for the acknowledged folks, I’d always assumed such statements were merely polite hyperbole. Then I wrote my own book. Now I know what those writers felt. For example, this book benefitted from the support and patience of Ali Schultz. Ali, you supported me through each word of every draft. You patiently listened to me read aloud passage after passage, encouraging me as I’d edit on the fly . Far too many Sunday-evening dinners were spent with my frustrated declarations of utter incompetence after a weekend of vain attempts to write. You stared me down and brooked no nonsense when I’d lament that I was never going to finish, that I was a fool for even trying, and that I should just send back the advance. You pushed me forward when my Crow squawked his loudest. Indeed, you’ve always seen the good in me, especially when my fears caused me to see only my failings. Even today you continue to tether me, keeping me grounded to the reality of who I am and the good work I do, and when I am lost and wishing for nothing more than to disappear into the crack of the tree, you show me the way home. Thank you for being my map and my anchor . Dear Sam, Emma, and Michael: Of all the things I’ve done in my life, nothing compares to the experience of being your father . It is a gift that grows in depth and meaning every day . I am breathless and in awe of thewonderful adults you’ve become, and will be forever grateful for the honor of being your parent. To my brothers and sisters, thank you for allowing me to share my version of our story . It is, of course, my version. But knowing that I had your love and support made diving into the wreck of our shared past easier: Vito, thank you not only for Christopher Robin and Edward Bear , but for teaching all of us that words and music together can move us to be more than shattered souls. Thanks, too, for trying', 'blaming others for our lives. Compassionate in the way a good teacher is compassionate: stop bullshitting yourself. Slow down. Stand still. Breathe. Let the forest find you. Then you can begin to ask yourself the hardest questions: Who am I? What do I believe about the world? What do success and failure mean to me (and not to everyone else)? What kind of adult do I want to be? And, most helpful, how have I been complicit in creating the conditions in my life that I say I don’ t want?Creating a Place of Belonging All the folks who come to our company’ s leadership boot camps complete applications in which they are encouraged to define with skill, compassion, and radical self-inquiry the things with which they struggle. Tracy Lawrence’ s application broke my heart. I remember her writing about her wish that the people at Chewse, the company she cofounded and where she serves as CEO, could be “just like software.” She wanted people to be knowable, predictable. She wanted some semblance of a guarantee that if the data that had been input were correct, the output would be ef fective. In 2016, in a podcast conversation in which we recalled that time, she and I spoke of her big breakthrough. A breakthrough that came about only because of her willingness to enter a different time, to stand still despite feeling as if her hair were on fire, to take a few days and think about her leadership and her life. At the camp, we spoke about the ways our pasts shape our presents. We slowed down; we stood still; we dropped the bullshitting, spinning, and the efforts to outrun the wild things. We inquired within. Looking puzzled, Tracy struggled to understand how her childhood was present in her adulthood. “Tell me about shame,” I answered her . Scrunching up her face, searching, her eyes suddenly got very wide. Her body small and still. “What do you remember?” I asked. “I was in middle school,” she said in a dreamy reverie. She was teased relentlessly for having “dif ferent” hair . A mixed-race kid, her features weren’ t precisely like everyone else’ s. “What happened?” I continued, the group joining us in the stillness. “I spent the entire year eating my lunch in a bathroom stall to avoid the kids who were making fun of me.” Lunch, for Tracy, meant humiliation, sadness, and pain; and the only way to be safe was to be alone. She wept as she remembered that time. She sobbed as she reentered those feelings. She sat still and felt the past wash over her . “Tracy,” I said, calling her back to the present. “T racy, what does your company do?” Wiping her nose, she looked puzzled. “T racy, tell me what Chewse does, what’ s its mission?” “We provide nutritious lunches and snacks to other start-up companies,” she answered really puzzled.“And why is that important?” I asked. Smiling and laughing, she replied, “So that people can get out from behind their desks and gather together', 'that cuts down ignorance, duality , and delusion. What am I not saying? What’ s really going on? What confusing and contradictory emotions are blocking our insight and wisdom to know the way forward? The leader best able to cut through the miasma of confused and conflicting emotions, to answer such questions and see the nature of the reality of the or ganization’ s triumphs and struggles, is best able to calm and care for the herd. But wielding the flaming sword demands that we do our work, now and forever . Finding Your Way “I came to explore the wreck,” wrote poet Adrienne Rich in Diving into the Wreck, “not the story of the wreck / the thing itself and not the myth.” We dive into the wreck, make our way to the back of the cave, to retrieve the treasure. We use our words, as Rich says, as maps to our purpose. Our radically inquisitive questions are spades. A leader ’s work, now and forever , is to turn the muck of the ocean bottom and find the way . Dr. Sayres’ s questions gave me courage while honoring my cowardice, mapping my purpose and my way . Here are your spades, questions to ask yourself so that you might reboot your leadership and move forward on your journey of growing up. How would I act were I to remember who I am? What choices would I make, what actions would I take, if I regularly said the things that needed to be said? Who would I become were I to be fully , completely , and wholly heard?What is it that I wish the people in my life understood about me? Who would I be without the myths I’ve told about myself; the stories that took hold when I was yearning to feel love, safety , and belonging? First, having turned that muck, we then create the embodiment of our wishes and dreams: our or ganizations, our communities, our society . So often I’m called in to help lead conversations about mission, value, and purpose. When, really , the only questions that matter are those that tell us who we are and wish to be. How would our or ganization respond were we to hear all the things that are being said, regardless if they are being said with words or deeds? What does it mean to be a leader at our or ganization? What does it mean to be grown, a fully actualized adult? How would we feel if our children were to work for the company we’ve created or the team we lead? How has the unsorted baggage of what has happened to us shaped who we are as leaders? When our employees and colleagues leave our sides and our company , what do we want them to say about our time together? What do we believe to be true about the world? What do we, as a community of people working toward a common goal, believe the world needs? Regardless of the myths we are telling', ', a daily do-over of life expressed with integrity . Transformation is not how we discover the path up and to the right. No matter how many trips around Wonderland Lake we take, we are still bound to the truest task: live into congruency , tacking across the lake where the winds powering us are the answers to the questions. Who are we? What do we believe to be true, today? What is the world we wish to create every day with our actions and our hearts? This calling to a deep, radical inquiry into self is not only the path of transformation, the path to purpose but, in the end, how we grow strong, resilient, and capable of meeting the world like the openhearted warriors we were born to be. By this process of withstanding the asteroid strikes of people, of loss, of confusion, we fill the holes in our chests not with marionettes, cars, or even money but with our own souls. We turn the wounds of every day into sacred and healing balms for others and for ourselves. We must therefore remain open to those asteroids and the smart, strategic retreats. Standing still; leaning in; and listening to our children, our partners, our loves, our employees, our customers, and, most important, our own hearts—that is how we grow . Walking the forests, canyons, and trails of life, I marvel at split boulders. How does something so substantive, so strong, split in half? The boulder splits because over eons, drip by drip, water carves out first an indentation, then a divot, then a depression, until a pool forms, turns to ice, expands, and splits the rock. We are the rock. Our splits occur after the drip, drip, drip becomes a pool and the cold freezes the water , creating pressure strong enough to break us open. This is how we grow . We integrate the asteroid strikes, the twists and turns of forks in the road. The pain of uncertainty , missteps, strategic retreats, the echoing voices in our heads that caution us to choose wisely . Then, suddenly , the rock splits, air rushes in, the next few steps on a path become clear , and we stride forward. Although we are unsure of what it will all lead to, everything nevertheless becomes purposeful. Everything becomes sacred when good work is done well for the right reasons. The drama of being human is great and complicated. The pathless path is pockmarked with pain and suf fering. But seen from the vantage point that all steps are purposeful, all of it becomes worthwhile—a glorious, life- giving retort to those who would question our worthiness and lovability . Journaling Invitations What’ s my purpose? Why do I feel lost while I struggle to move forward? How do I grow , transform, and build a life of meaning?Chapter 7 Loving the Crow It took years, but I finally learned to love the whole of me and become a warrior . It’s been quite a journey . As a teenager , I found', 'I’ll often jump to a whiteboard and draw a simple triangle. “What is this?” I’ll ask again and again until we zero in on their internalized views of hierarchy . “And who sits atop this pyramid?” The boss—“el Jefe”—me, the president, our parents, or even God? In dissecting this internalized view , we reveal how we buy into the trap of the pyramid of a classic command-and-control or ganizational structure out of an attempt to quiet the whispery voices of our perceived inadequacies. But it doesn’ t work. The whispery voices in your head know better . They know that, sitting atop the pyramid, pretending to always have it together , always knowing the answers, is a delusion. Moreover , the delusion is a double bind. On the one hand, those voices know that, often, we haven’ t a clue as to how to proceed. In that knowledge, we live with the fear of being unmasked as an impostor . But, on the other hand, the shame of our not knowing leads us to believe that everyone else does know; everyone else has it all figured out. Then we do something particularly clever: we turn our shameful fear into further evidence of our failings as leaders, as adults, as humans. So, we spin, we bullshit, and play along in the shell game in which the bean of truth keeps disappearing under swiftly shifting shells. We sit atop the pyramid, pretending we know . Our colleagues outwardly bemoan our inability to delegate and share authority and inwardly revel in the relief that that they don’ t have to bear the consequences of a poor decision. And everyone plays the shell game. The game goes on and on. Slowly then, or ganizations become a fertile field where we plant the seeds of our childhood struggles. Slowly , inexorably , the top-down inauthentically led group becomes a canvas where we paint out scenes of our past. Slowly , assuredly , team members then respond in kind, replaying the struggles of their families of origin. Another of Carl Jung’ s admonitions reverberates: “Until you make the unconscious conscious, it will direct your life and you will call it fate.” We look at our or ganizations and logically conclude that they are fated to bedysfunctional messes. That we, because of our lack of skill, are fated to fail as leaders. To never feel safe enough, warm enough, or happy enough. There’ s the Dad, pretending that all is well even as his tense body can only relax with a Pabst Blue Ribbon in hand. There’ s the Mom, talking to Christ not in prayer but as if he’d pulled up a chair and were sharing a pack of Winstons. And there we are, playing the same games of hide-and-seek, half in and half out, there but not there. And there we all are, collectively pretending that the product works, the company’ s future is bright, and that we all love and trust each other . It was January . I’d flown back to New York from my']\n"
     ]
    }
   ],
   "source": [
    "pdf_path = \"Reboot_Leadership_and_the_Art_of.pdf\" \n",
    "query = \"What is the main topic discussed?\"\n",
    "result = rag_pipeline(pdf_path, query)\n",
    "print(result)\n"
   ]
  },
  {
   "cell_type": "code",
   "execution_count": null,
   "id": "16954aa3",
   "metadata": {},
   "outputs": [],
   "source": []
  }
 ],
 "metadata": {
  "kernelspec": {
   "display_name": "Python 3 (ipykernel)",
   "language": "python",
   "name": "python3"
  },
  "language_info": {
   "codemirror_mode": {
    "name": "ipython",
    "version": 3
   },
   "file_extension": ".py",
   "mimetype": "text/x-python",
   "name": "python",
   "nbconvert_exporter": "python",
   "pygments_lexer": "ipython3",
   "version": "3.11.4"
  }
 },
 "nbformat": 4,
 "nbformat_minor": 5
}
